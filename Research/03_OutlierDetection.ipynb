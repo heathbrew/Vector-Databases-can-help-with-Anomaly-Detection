{
 "cells": [
  {
   "cell_type": "code",
   "execution_count": 1,
   "id": "ccf97564-42ac-4717-8d53-cfa91b0a4b43",
   "metadata": {},
   "outputs": [],
   "source": [
    "import os"
   ]
  },
  {
   "cell_type": "code",
   "execution_count": 2,
   "id": "9fdf41b4-3a98-4706-bf14-5499184e0343",
   "metadata": {},
   "outputs": [
    {
     "data": {
      "text/plain": [
       "'D:\\\\Desktop\\\\Superteams AI\\\\Task 2 Vector Databases can help with Anomaly Detection\\\\Vector-Databases-can-help-with-Anomaly-Detection\\\\Research'"
      ]
     },
     "execution_count": 2,
     "metadata": {},
     "output_type": "execute_result"
    }
   ],
   "source": [
    "%pwd"
   ]
  },
  {
   "cell_type": "code",
   "execution_count": 3,
   "id": "3a52e346-0335-45e1-8b14-d2ade6a65edf",
   "metadata": {},
   "outputs": [],
   "source": [
    "os.chdir(\"../\")"
   ]
  },
  {
   "cell_type": "code",
   "execution_count": 4,
   "id": "0f5df87c-9ce0-4826-aa54-69e3010394b6",
   "metadata": {},
   "outputs": [
    {
     "data": {
      "text/plain": [
       "'D:\\\\Desktop\\\\Superteams AI\\\\Task 2 Vector Databases can help with Anomaly Detection\\\\Vector-Databases-can-help-with-Anomaly-Detection'"
      ]
     },
     "execution_count": 4,
     "metadata": {},
     "output_type": "execute_result"
    }
   ],
   "source": [
    "%pwd"
   ]
  },
  {
   "cell_type": "code",
   "execution_count": 5,
   "id": "2f536801-19f6-46d8-9592-837124b79b53",
   "metadata": {},
   "outputs": [],
   "source": [
    "import logging\n",
    "from pathlib import Path\n",
    "logging.basicConfig(\n",
    "    # filename='extract_data.log',\n",
    "    level=logging.INFO,\n",
    "    format='%(asctime)s - %(levelname)s - %(message)s',\n",
    "    datefmt='%Y-%m-%d %H:%M:%S'\n",
    ")"
   ]
  },
  {
   "cell_type": "code",
   "execution_count": 6,
   "id": "e15257f8-1a83-4821-9d87-6f5dfdcc737d",
   "metadata": {},
   "outputs": [
    {
     "data": {
      "text/html": [
       "<div>\n",
       "<style scoped>\n",
       "    .dataframe tbody tr th:only-of-type {\n",
       "        vertical-align: middle;\n",
       "    }\n",
       "\n",
       "    .dataframe tbody tr th {\n",
       "        vertical-align: top;\n",
       "    }\n",
       "\n",
       "    .dataframe thead th {\n",
       "        text-align: right;\n",
       "    }\n",
       "</style>\n",
       "<table border=\"1\" class=\"dataframe\">\n",
       "  <thead>\n",
       "    <tr style=\"text-align: right;\">\n",
       "      <th></th>\n",
       "      <th>title</th>\n",
       "      <th>summary</th>\n",
       "      <th>link</th>\n",
       "      <th>published</th>\n",
       "    </tr>\n",
       "  </thead>\n",
       "  <tbody>\n",
       "    <tr>\n",
       "      <th>0</th>\n",
       "      <td>India's exports dip marginally in March; 3.11%...</td>\n",
       "      <td>India's exports dip marginally in March; 3.11%...</td>\n",
       "      <td>https://realtime.rediff.com/news/business/Indi...</td>\n",
       "      <td>1 hour(s) ago</td>\n",
       "    </tr>\n",
       "    <tr>\n",
       "      <th>1</th>\n",
       "      <td>Vi expects 5G rollout in 6-9 months after FPO</td>\n",
       "      <td>Vi expects 5G rollout in 6-9 months after FPO\\...</td>\n",
       "      <td>https://realtime.rediff.com/news/business/Vi-e...</td>\n",
       "      <td>2 hour(s) ago</td>\n",
       "    </tr>\n",
       "    <tr>\n",
       "      <th>2</th>\n",
       "      <td>Byju's India CEO Arjun Mohan quits, Raveendran...</td>\n",
       "      <td>Byju's India CEO Arjun Mohan quits, Raveendran...</td>\n",
       "      <td>https://realtime.rediff.com/news/business/Byju...</td>\n",
       "      <td>3 hour(s) ago</td>\n",
       "    </tr>\n",
       "    <tr>\n",
       "      <th>3</th>\n",
       "      <td>Sensex, Nifty tank over 1% on concerns over Mi...</td>\n",
       "      <td>Sensex, Nifty tank over 1% on concerns over Mi...</td>\n",
       "      <td>https://realtime.rediff.com/news/business/Sens...</td>\n",
       "      <td>6 hour(s) ago</td>\n",
       "    </tr>\n",
       "    <tr>\n",
       "      <th>4</th>\n",
       "      <td>Wholesale inflation inches up marginally to 0....</td>\n",
       "      <td>Wholesale inflation inches up marginally to 0....</td>\n",
       "      <td>https://realtime.rediff.com/news/business/Whol...</td>\n",
       "      <td>7 hour(s) ago</td>\n",
       "    </tr>\n",
       "  </tbody>\n",
       "</table>\n",
       "</div>"
      ],
      "text/plain": [
       "                                               title  \\\n",
       "0  India's exports dip marginally in March; 3.11%...   \n",
       "1      Vi expects 5G rollout in 6-9 months after FPO   \n",
       "2  Byju's India CEO Arjun Mohan quits, Raveendran...   \n",
       "3  Sensex, Nifty tank over 1% on concerns over Mi...   \n",
       "4  Wholesale inflation inches up marginally to 0....   \n",
       "\n",
       "                                             summary  \\\n",
       "0  India's exports dip marginally in March; 3.11%...   \n",
       "1  Vi expects 5G rollout in 6-9 months after FPO\\...   \n",
       "2  Byju's India CEO Arjun Mohan quits, Raveendran...   \n",
       "3  Sensex, Nifty tank over 1% on concerns over Mi...   \n",
       "4  Wholesale inflation inches up marginally to 0....   \n",
       "\n",
       "                                                link      published  \n",
       "0  https://realtime.rediff.com/news/business/Indi...  1 hour(s) ago  \n",
       "1  https://realtime.rediff.com/news/business/Vi-e...  2 hour(s) ago  \n",
       "2  https://realtime.rediff.com/news/business/Byju...  3 hour(s) ago  \n",
       "3  https://realtime.rediff.com/news/business/Sens...  6 hour(s) ago  \n",
       "4  https://realtime.rediff.com/news/business/Whol...  7 hour(s) ago  "
      ]
     },
     "execution_count": 6,
     "metadata": {},
     "output_type": "execute_result"
    }
   ],
   "source": [
    "import pandas as pd\n",
    "\n",
    "# Load the CSV file into a pandas DataFrame\n",
    "df = pd.read_csv(\"Dataset/financial_news.csv\")\n",
    "df.head()"
   ]
  },
  {
   "cell_type": "code",
   "execution_count": 7,
   "id": "286fa23b-88a0-4827-92bf-23e0de149b90",
   "metadata": {},
   "outputs": [
    {
     "name": "stderr",
     "output_type": "stream",
     "text": [
      "2024-04-18 21:56:50 - INFO - Loaded financial news dataset\n"
     ]
    }
   ],
   "source": [
    "logging.info(\"Loaded financial news dataset\")"
   ]
  },
  {
   "cell_type": "markdown",
   "id": "03e6ef49-937f-4efb-8253-43ff4340890b",
   "metadata": {},
   "source": [
    "# Loading embeddding Model"
   ]
  },
  {
   "cell_type": "code",
   "execution_count": 8,
   "id": "a87b12fb-da43-47db-b93b-3f1f204c199e",
   "metadata": {},
   "outputs": [
    {
     "name": "stderr",
     "output_type": "stream",
     "text": [
      "D:\\Desktop\\Superteams AI\\Task 2 Vector Databases can help with Anomaly Detection\\Vector-Databases-can-help-with-Anomaly-Detection\\venv\\Lib\\site-packages\\tqdm\\auto.py:21: TqdmWarning: IProgress not found. Please update jupyter and ipywidgets. See https://ipywidgets.readthedocs.io/en/stable/user_install.html\n",
      "  from .autonotebook import tqdm as notebook_tqdm\n"
     ]
    }
   ],
   "source": [
    "from sentence_transformers import SentenceTransformer"
   ]
  },
  {
   "cell_type": "code",
   "execution_count": 9,
   "id": "6f2152c5-0c70-4613-b1bb-e2e3718d10f3",
   "metadata": {},
   "outputs": [],
   "source": [
    "# from transformers import AutoTokenizer, AutoModel\n",
    "# from pathlib import Path\n",
    "\n",
    "# def download_model_and_tokenizer(model_name, save_path):\n",
    "#     \"\"\"\n",
    "#     Download and save both the model and the tokenizer to the specified directory.\n",
    "\n",
    "#     Parameters:\n",
    "#         model_name (str): Name of the model to download.\n",
    "#         save_path (str or Path): Path to the directory where the model and tokenizer will be saved.\n",
    "#     \"\"\"\n",
    "#     # Create the save path if it doesn't exist\n",
    "#     save_path = Path(save_path)\n",
    "#     save_path.mkdir(parents=True, exist_ok=True)\n",
    "    \n",
    "#     # Initialize tokenizer and model\n",
    "#     tokenizer = AutoTokenizer.from_pretrained(model_name)\n",
    "#     model = AutoModel.from_pretrained(model_name)\n",
    "    \n",
    "#     # Save tokenizer\n",
    "#     tokenizer.save_pretrained(save_path)\n",
    "    \n",
    "#     # Save model\n",
    "#     model.save_pretrained(save_path)\n",
    "\n",
    "# # Example usage\n",
    "# model_name = 'sentence-transformers/all-MiniLM-L12-v2'  # Model name to download\n",
    "# save_path = Path(\"MiniLM-L12-v2/\")  # Path where model and tokenizer will be saved\n",
    "# download_model_and_tokenizer(model_name, save_path)\n"
   ]
  },
  {
   "cell_type": "code",
   "execution_count": 10,
   "id": "62bfa8b5-2cfc-483d-be73-fb3acd47df43",
   "metadata": {},
   "outputs": [],
   "source": [
    "from transformers import AutoTokenizer, AutoModel\n",
    "\n",
    "def load_model_and_tokenizer(model_path):\n",
    "    \"\"\"\n",
    "    Load the model and tokenizer from the specified directory.\n",
    "\n",
    "    Parameters:\n",
    "        model_path (str or Path): Path to the directory containing the saved model and tokenizer.\n",
    "\n",
    "    Returns:\n",
    "        tokenizer (transformers.PreTrainedTokenizer): Loaded tokenizer.\n",
    "        model (transformers.PreTrainedModel): Loaded model.\n",
    "    \"\"\"\n",
    "    model_path = Path(model_path)\n",
    "    tokenizer = AutoTokenizer.from_pretrained(model_path)\n",
    "    model = AutoModel.from_pretrained(model_path)\n",
    "    return tokenizer, model\n",
    "\n",
    "# Load the model and tokenizer\n",
    "model_path = Path(\"MiniLM-L12-v2/\")\n",
    "tokenizer, model = load_model_and_tokenizer(model_path)"
   ]
  },
  {
   "cell_type": "code",
   "execution_count": 11,
   "id": "2fa4ea4f-8794-456c-b859-433e73792e5b",
   "metadata": {},
   "outputs": [
    {
     "name": "stderr",
     "output_type": "stream",
     "text": [
      "2024-04-18 21:57:00 - INFO - Initialized SentenceTransformer model\n"
     ]
    }
   ],
   "source": [
    "logging.info(\"Initialized SentenceTransformer model\")"
   ]
  },
  {
   "cell_type": "code",
   "execution_count": 12,
   "id": "327fbaab-f9f0-4a1f-8850-900ace1668b5",
   "metadata": {},
   "outputs": [
    {
     "data": {
      "text/html": [
       "<div>\n",
       "<style scoped>\n",
       "    .dataframe tbody tr th:only-of-type {\n",
       "        vertical-align: middle;\n",
       "    }\n",
       "\n",
       "    .dataframe tbody tr th {\n",
       "        vertical-align: top;\n",
       "    }\n",
       "\n",
       "    .dataframe thead th {\n",
       "        text-align: right;\n",
       "    }\n",
       "</style>\n",
       "<table border=\"1\" class=\"dataframe\">\n",
       "  <thead>\n",
       "    <tr style=\"text-align: right;\">\n",
       "      <th></th>\n",
       "      <th>title</th>\n",
       "      <th>summary</th>\n",
       "      <th>link</th>\n",
       "      <th>published</th>\n",
       "      <th>news</th>\n",
       "    </tr>\n",
       "  </thead>\n",
       "  <tbody>\n",
       "    <tr>\n",
       "      <th>0</th>\n",
       "      <td>India's exports dip marginally in March; 3.11%...</td>\n",
       "      <td>India's exports dip marginally in March; 3.11%...</td>\n",
       "      <td>https://realtime.rediff.com/news/business/Indi...</td>\n",
       "      <td>1 hour(s) ago</td>\n",
       "      <td>India's exports dip marginally in March; 3.11%...</td>\n",
       "    </tr>\n",
       "    <tr>\n",
       "      <th>1</th>\n",
       "      <td>Vi expects 5G rollout in 6-9 months after FPO</td>\n",
       "      <td>Vi expects 5G rollout in 6-9 months after FPO\\...</td>\n",
       "      <td>https://realtime.rediff.com/news/business/Vi-e...</td>\n",
       "      <td>2 hour(s) ago</td>\n",
       "      <td>Vi expects 5G rollout in 6-9 months after FPO ...</td>\n",
       "    </tr>\n",
       "    <tr>\n",
       "      <th>2</th>\n",
       "      <td>Byju's India CEO Arjun Mohan quits, Raveendran...</td>\n",
       "      <td>Byju's India CEO Arjun Mohan quits, Raveendran...</td>\n",
       "      <td>https://realtime.rediff.com/news/business/Byju...</td>\n",
       "      <td>3 hour(s) ago</td>\n",
       "      <td>Byju's India CEO Arjun Mohan quits, Raveendran...</td>\n",
       "    </tr>\n",
       "    <tr>\n",
       "      <th>3</th>\n",
       "      <td>Sensex, Nifty tank over 1% on concerns over Mi...</td>\n",
       "      <td>Sensex, Nifty tank over 1% on concerns over Mi...</td>\n",
       "      <td>https://realtime.rediff.com/news/business/Sens...</td>\n",
       "      <td>6 hour(s) ago</td>\n",
       "      <td>Sensex, Nifty tank over 1% on concerns over Mi...</td>\n",
       "    </tr>\n",
       "    <tr>\n",
       "      <th>4</th>\n",
       "      <td>Wholesale inflation inches up marginally to 0....</td>\n",
       "      <td>Wholesale inflation inches up marginally to 0....</td>\n",
       "      <td>https://realtime.rediff.com/news/business/Whol...</td>\n",
       "      <td>7 hour(s) ago</td>\n",
       "      <td>Wholesale inflation inches up marginally to 0....</td>\n",
       "    </tr>\n",
       "  </tbody>\n",
       "</table>\n",
       "</div>"
      ],
      "text/plain": [
       "                                               title  \\\n",
       "0  India's exports dip marginally in March; 3.11%...   \n",
       "1      Vi expects 5G rollout in 6-9 months after FPO   \n",
       "2  Byju's India CEO Arjun Mohan quits, Raveendran...   \n",
       "3  Sensex, Nifty tank over 1% on concerns over Mi...   \n",
       "4  Wholesale inflation inches up marginally to 0....   \n",
       "\n",
       "                                             summary  \\\n",
       "0  India's exports dip marginally in March; 3.11%...   \n",
       "1  Vi expects 5G rollout in 6-9 months after FPO\\...   \n",
       "2  Byju's India CEO Arjun Mohan quits, Raveendran...   \n",
       "3  Sensex, Nifty tank over 1% on concerns over Mi...   \n",
       "4  Wholesale inflation inches up marginally to 0....   \n",
       "\n",
       "                                                link      published  \\\n",
       "0  https://realtime.rediff.com/news/business/Indi...  1 hour(s) ago   \n",
       "1  https://realtime.rediff.com/news/business/Vi-e...  2 hour(s) ago   \n",
       "2  https://realtime.rediff.com/news/business/Byju...  3 hour(s) ago   \n",
       "3  https://realtime.rediff.com/news/business/Sens...  6 hour(s) ago   \n",
       "4  https://realtime.rediff.com/news/business/Whol...  7 hour(s) ago   \n",
       "\n",
       "                                                news  \n",
       "0  India's exports dip marginally in March; 3.11%...  \n",
       "1  Vi expects 5G rollout in 6-9 months after FPO ...  \n",
       "2  Byju's India CEO Arjun Mohan quits, Raveendran...  \n",
       "3  Sensex, Nifty tank over 1% on concerns over Mi...  \n",
       "4  Wholesale inflation inches up marginally to 0....  "
      ]
     },
     "execution_count": 12,
     "metadata": {},
     "output_type": "execute_result"
    }
   ],
   "source": [
    "df['news'] = df.apply(lambda row: row['title'] + ' ' + row['summary'], axis=1)\n",
    "df.head()"
   ]
  },
  {
   "cell_type": "markdown",
   "id": "3ce64df8-9645-4c5e-be47-03255cc268a3",
   "metadata": {},
   "source": [
    "# embedding the data "
   ]
  },
  {
   "cell_type": "code",
   "execution_count": 13,
   "id": "0507c06e-6ad0-4373-ad73-9567f88502e1",
   "metadata": {},
   "outputs": [],
   "source": [
    "import torch\n",
    "\n",
    "#Mean Pooling - Take attention mask into account for correct averaging\n",
    "def mean_pooling(model_output, attention_mask):\n",
    "    token_embeddings = model_output[0] #First element of model_output contains all token embeddings\n",
    "    input_mask_expanded = attention_mask.unsqueeze(-1).expand(token_embeddings.size()).float()\n",
    "    return torch.sum(token_embeddings * input_mask_expanded, 1) / torch.clamp(input_mask_expanded.sum(1), min=1e-9)\n",
    "\n",
    "def generate_embedding(text):\n",
    "    # Tokenize input text\n",
    "    encoded_input = tokenizer(text, padding=True, truncation=True, return_tensors='pt')\n",
    "    # Compute token embeddings with model\n",
    "    with torch.no_grad():\n",
    "        model_output = model(**encoded_input)\n",
    "    # Perform mean pooling\n",
    "    sentence_embedding = mean_pooling(model_output, encoded_input['attention_mask'])\n",
    "    # Convert to numpy for FAISS compatibility and ensure it's 2D\n",
    "    return sentence_embedding.cpu().numpy().reshape(1, -1)"
   ]
  },
  {
   "cell_type": "code",
   "execution_count": 14,
   "id": "95d2ae6a-e460-44cb-b99b-abe88e1590d8",
   "metadata": {},
   "outputs": [
    {
     "data": {
      "text/html": [
       "<div>\n",
       "<style scoped>\n",
       "    .dataframe tbody tr th:only-of-type {\n",
       "        vertical-align: middle;\n",
       "    }\n",
       "\n",
       "    .dataframe tbody tr th {\n",
       "        vertical-align: top;\n",
       "    }\n",
       "\n",
       "    .dataframe thead th {\n",
       "        text-align: right;\n",
       "    }\n",
       "</style>\n",
       "<table border=\"1\" class=\"dataframe\">\n",
       "  <thead>\n",
       "    <tr style=\"text-align: right;\">\n",
       "      <th></th>\n",
       "      <th>title</th>\n",
       "      <th>summary</th>\n",
       "      <th>link</th>\n",
       "      <th>published</th>\n",
       "      <th>news</th>\n",
       "      <th>encoded_news</th>\n",
       "    </tr>\n",
       "  </thead>\n",
       "  <tbody>\n",
       "    <tr>\n",
       "      <th>0</th>\n",
       "      <td>India's exports dip marginally in March; 3.11%...</td>\n",
       "      <td>India's exports dip marginally in March; 3.11%...</td>\n",
       "      <td>https://realtime.rediff.com/news/business/Indi...</td>\n",
       "      <td>1 hour(s) ago</td>\n",
       "      <td>India's exports dip marginally in March; 3.11%...</td>\n",
       "      <td>[0.11521313339471817, -0.300284206867218, -0.0...</td>\n",
       "    </tr>\n",
       "    <tr>\n",
       "      <th>1</th>\n",
       "      <td>Vi expects 5G rollout in 6-9 months after FPO</td>\n",
       "      <td>Vi expects 5G rollout in 6-9 months after FPO\\...</td>\n",
       "      <td>https://realtime.rediff.com/news/business/Vi-e...</td>\n",
       "      <td>2 hour(s) ago</td>\n",
       "      <td>Vi expects 5G rollout in 6-9 months after FPO ...</td>\n",
       "      <td>[-0.11326470226049423, -0.1829032599925995, 0....</td>\n",
       "    </tr>\n",
       "    <tr>\n",
       "      <th>2</th>\n",
       "      <td>Byju's India CEO Arjun Mohan quits, Raveendran...</td>\n",
       "      <td>Byju's India CEO Arjun Mohan quits, Raveendran...</td>\n",
       "      <td>https://realtime.rediff.com/news/business/Byju...</td>\n",
       "      <td>3 hour(s) ago</td>\n",
       "      <td>Byju's India CEO Arjun Mohan quits, Raveendran...</td>\n",
       "      <td>[0.169069305062294, 0.021063419058918953, -0.1...</td>\n",
       "    </tr>\n",
       "    <tr>\n",
       "      <th>3</th>\n",
       "      <td>Sensex, Nifty tank over 1% on concerns over Mi...</td>\n",
       "      <td>Sensex, Nifty tank over 1% on concerns over Mi...</td>\n",
       "      <td>https://realtime.rediff.com/news/business/Sens...</td>\n",
       "      <td>6 hour(s) ago</td>\n",
       "      <td>Sensex, Nifty tank over 1% on concerns over Mi...</td>\n",
       "      <td>[0.08247419446706772, -0.09446192532777786, -0...</td>\n",
       "    </tr>\n",
       "    <tr>\n",
       "      <th>4</th>\n",
       "      <td>Wholesale inflation inches up marginally to 0....</td>\n",
       "      <td>Wholesale inflation inches up marginally to 0....</td>\n",
       "      <td>https://realtime.rediff.com/news/business/Whol...</td>\n",
       "      <td>7 hour(s) ago</td>\n",
       "      <td>Wholesale inflation inches up marginally to 0....</td>\n",
       "      <td>[0.2434849739074707, 0.027635755017399788, 0.0...</td>\n",
       "    </tr>\n",
       "  </tbody>\n",
       "</table>\n",
       "</div>"
      ],
      "text/plain": [
       "                                               title  \\\n",
       "0  India's exports dip marginally in March; 3.11%...   \n",
       "1      Vi expects 5G rollout in 6-9 months after FPO   \n",
       "2  Byju's India CEO Arjun Mohan quits, Raveendran...   \n",
       "3  Sensex, Nifty tank over 1% on concerns over Mi...   \n",
       "4  Wholesale inflation inches up marginally to 0....   \n",
       "\n",
       "                                             summary  \\\n",
       "0  India's exports dip marginally in March; 3.11%...   \n",
       "1  Vi expects 5G rollout in 6-9 months after FPO\\...   \n",
       "2  Byju's India CEO Arjun Mohan quits, Raveendran...   \n",
       "3  Sensex, Nifty tank over 1% on concerns over Mi...   \n",
       "4  Wholesale inflation inches up marginally to 0....   \n",
       "\n",
       "                                                link      published  \\\n",
       "0  https://realtime.rediff.com/news/business/Indi...  1 hour(s) ago   \n",
       "1  https://realtime.rediff.com/news/business/Vi-e...  2 hour(s) ago   \n",
       "2  https://realtime.rediff.com/news/business/Byju...  3 hour(s) ago   \n",
       "3  https://realtime.rediff.com/news/business/Sens...  6 hour(s) ago   \n",
       "4  https://realtime.rediff.com/news/business/Whol...  7 hour(s) ago   \n",
       "\n",
       "                                                news  \\\n",
       "0  India's exports dip marginally in March; 3.11%...   \n",
       "1  Vi expects 5G rollout in 6-9 months after FPO ...   \n",
       "2  Byju's India CEO Arjun Mohan quits, Raveendran...   \n",
       "3  Sensex, Nifty tank over 1% on concerns over Mi...   \n",
       "4  Wholesale inflation inches up marginally to 0....   \n",
       "\n",
       "                                        encoded_news  \n",
       "0  [0.11521313339471817, -0.300284206867218, -0.0...  \n",
       "1  [-0.11326470226049423, -0.1829032599925995, 0....  \n",
       "2  [0.169069305062294, 0.021063419058918953, -0.1...  \n",
       "3  [0.08247419446706772, -0.09446192532777786, -0...  \n",
       "4  [0.2434849739074707, 0.027635755017399788, 0.0...  "
      ]
     },
     "execution_count": 14,
     "metadata": {},
     "output_type": "execute_result"
    }
   ],
   "source": [
    "# Generate embeddings for the 'input' column\n",
    "df['encoded_news'] = df['news'].apply(lambda x: generate_embedding(x)[0].tolist())\n",
    "df.head()"
   ]
  },
  {
   "cell_type": "markdown",
   "id": "64260ba2-4c9c-4411-b186-75bc5312ac96",
   "metadata": {},
   "source": [
    "# Apply t-SNE for dimensionality reduction"
   ]
  },
  {
   "cell_type": "code",
   "execution_count": 17,
   "id": "39e2bce0-1e9b-4b34-b745-f8ffed8cb479",
   "metadata": {},
   "outputs": [],
   "source": [
    "import pandas as pd\n",
    "import numpy as np\n",
    "import matplotlib.pyplot as plt\n",
    "import seaborn as sns\n",
    "from sklearn.manifold import TSNE"
   ]
  },
  {
   "cell_type": "code",
   "execution_count": 28,
   "id": "0369884f-240e-4538-aed8-c3c7425331c4",
   "metadata": {},
   "outputs": [
    {
     "data": {
      "text/html": [
       "<div>\n",
       "<style scoped>\n",
       "    .dataframe tbody tr th:only-of-type {\n",
       "        vertical-align: middle;\n",
       "    }\n",
       "\n",
       "    .dataframe tbody tr th {\n",
       "        vertical-align: top;\n",
       "    }\n",
       "\n",
       "    .dataframe thead th {\n",
       "        text-align: right;\n",
       "    }\n",
       "</style>\n",
       "<table border=\"1\" class=\"dataframe\">\n",
       "  <thead>\n",
       "    <tr style=\"text-align: right;\">\n",
       "      <th></th>\n",
       "      <th>TSNE1</th>\n",
       "      <th>TSNE2</th>\n",
       "      <th>Class Name</th>\n",
       "    </tr>\n",
       "  </thead>\n",
       "  <tbody>\n",
       "    <tr>\n",
       "      <th>0</th>\n",
       "      <td>361.620667</td>\n",
       "      <td>106.326279</td>\n",
       "      <td>India's exports dip marginally in March; 3.11%...</td>\n",
       "    </tr>\n",
       "    <tr>\n",
       "      <th>1</th>\n",
       "      <td>-63.680431</td>\n",
       "      <td>-62.218475</td>\n",
       "      <td>Vi expects 5G rollout in 6-9 months after FPO</td>\n",
       "    </tr>\n",
       "    <tr>\n",
       "      <th>2</th>\n",
       "      <td>-71.154099</td>\n",
       "      <td>-81.083931</td>\n",
       "      <td>Byju's India CEO Arjun Mohan quits, Raveendran...</td>\n",
       "    </tr>\n",
       "    <tr>\n",
       "      <th>3</th>\n",
       "      <td>-60.315266</td>\n",
       "      <td>-113.995895</td>\n",
       "      <td>Sensex, Nifty tank over 1% on concerns over Mi...</td>\n",
       "    </tr>\n",
       "    <tr>\n",
       "      <th>4</th>\n",
       "      <td>361.605103</td>\n",
       "      <td>114.890617</td>\n",
       "      <td>Wholesale inflation inches up marginally to 0....</td>\n",
       "    </tr>\n",
       "  </tbody>\n",
       "</table>\n",
       "</div>"
      ],
      "text/plain": [
       "        TSNE1       TSNE2                                         Class Name\n",
       "0  361.620667  106.326279  India's exports dip marginally in March; 3.11%...\n",
       "1  -63.680431  -62.218475      Vi expects 5G rollout in 6-9 months after FPO\n",
       "2  -71.154099  -81.083931  Byju's India CEO Arjun Mohan quits, Raveendran...\n",
       "3  -60.315266 -113.995895  Sensex, Nifty tank over 1% on concerns over Mi...\n",
       "4  361.605103  114.890617  Wholesale inflation inches up marginally to 0...."
      ]
     },
     "execution_count": 28,
     "metadata": {},
     "output_type": "execute_result"
    }
   ],
   "source": [
    "X = np.array(df['encoded_news'].tolist())\n",
    "# Increase the perplexity value (default is 30)\n",
    "tsne = TSNE(random_state=0, n_iter=1000, perplexity=1)\n",
    "tsne_results = tsne.fit_transform(X)\n",
    "\n",
    "df_tsne = pd.DataFrame(tsne_results, columns=['TSNE1', 'TSNE2'])\n",
    "df_tsne['Class Name'] = df['title']  # Using 'title' as a placeholder for 'Class Name'\n",
    "df_tsne.head()"
   ]
  },
  {
   "cell_type": "code",
   "execution_count": 29,
   "id": "9739b91d-3b2b-4d17-bd1a-71540536602b",
   "metadata": {},
   "outputs": [
    {
     "data": {
      "image/png": "[encoded data removed]",
      "text/plain": [
       "<Figure size 800x600 with 1 Axes>"
      ]
     },
     "metadata": {},
     "output_type": "display_data"
    }
   ],
   "source": [
    "# Plot t-SNE results\n",
    "fig, ax = plt.subplots(figsize=(8, 6))\n",
    "sns.set_style('darkgrid', {\"grid.color\": \".6\", \"grid.linestyle\": \":\"})\n",
    "sns.scatterplot(data=df_tsne, x='TSNE1', y='TSNE2', hue='Class Name', palette='Set2')\n",
    "sns.move_legend(ax, \"upper left\", bbox_to_anchor=(1, 1))\n",
    "plt.title('Scatter plot of news using t-SNE')\n",
    "plt.xlabel('TSNE1')\n",
    "plt.ylabel('TSNE2')\n",
    "plt.show()"
   ]
  },
  {
   "cell_type": "markdown",
   "id": "c475fa19-2edc-4db4-ad65-78c4f8834004",
   "metadata": {},
   "source": [
    "# Outlier detection"
   ]
  },
  {
   "cell_type": "code",
   "execution_count": 33,
   "id": "60cf9477-5213-4ba2-b405-837b175b244c",
   "metadata": {},
   "outputs": [],
   "source": [
    "# Function to get centroids of each class\n",
    "def get_centroids(df_tsne):\n",
    "    centroids = df_tsne.groupby('Class Name').mean()\n",
    "    return centroids\n",
    "\n",
    "centroids = get_centroids(df_tsne)\n",
    "\n",
    "# Function to detect outliers\n",
    "def calculate_euclidean_distance(p1, p2):\n",
    "    return np.sqrt(np.sum(np.square(p1 - p2)))\n",
    "\n",
    "def detect_outlier(df, emb_centroids, radius):\n",
    "    df['Outlier'] = False\n",
    "    for idx, row in df.iterrows():\n",
    "        class_name = row['Class Name']  # Get class name of row\n",
    "        # Compare centroid distances\n",
    "        dist = calculate_euclidean_distance(np.array([row['TSNE1'], row['TSNE2']]),\n",
    "                                            np.array([emb_centroids.loc[class_name, 'TSNE1'], emb_centroids.loc[class_name, 'TSNE2']]))\n",
    "        df.at[idx, 'Outlier'] = dist > radius\n",
    "\n",
    "    return len(df[df['Outlier']])"
   ]
  },
  {
   "cell_type": "code",
   "execution_count": 34,
   "id": "e3c68077-e92a-4013-a472-74e44cf7dec1",
   "metadata": {},
   "outputs": [
    {
     "name": "stdout",
     "output_type": "stream",
     "text": [
      "Number of outliers: 0\n"
     ]
    }
   ],
   "source": [
    "# Choose a radius for outlier detection\n",
    "RADIUS = 50\n",
    "num_outliers = detect_outlier(df_tsne, centroids, RADIUS)\n",
    "print(\"Number of outliers:\", num_outliers)"
   ]
  },
  {
   "cell_type": "code",
   "execution_count": 42,
   "id": "fde3bafa-a8f2-4e2a-87f2-7e8ab4093d97",
   "metadata": {},
   "outputs": [
    {
     "data": {
      "text/plain": [
       "[]"
      ]
     },
     "execution_count": 42,
     "metadata": {},
     "output_type": "execute_result"
    }
   ],
   "source": [
    "range_ = np.arange(3, 0.75, 0.02).round(decimals=2).tolist()\n",
    "num_outliers = []\n",
    "for i in range_:\n",
    "  num_outliers.append(detect_outlier(df_tsne, centroids, i))\n",
    "\n",
    "num_outliers"
   ]
  },
  {
   "cell_type": "code",
   "execution_count": null,
   "id": "dc0f6df7-a409-4407-8703-a37b8001d2d1",
   "metadata": {},
   "outputs": [],
   "source": []
  },
  {
   "cell_type": "code",
   "execution_count": null,
   "id": "d50d46bd-e7b2-4848-b89b-dfb83a2eee78",
   "metadata": {},
   "outputs": [],
   "source": []
  }
 ],
 "metadata": {
  "kernelspec": {
   "display_name": "Python 3 (ipykernel)",
   "language": "python",
   "name": "python3"
  },
  "language_info": {
   "codemirror_mode": {
    "name": "ipython",
    "version": 3
   },
   "file_extension": ".py",
   "mimetype": "text/x-python",
   "name": "python",
   "nbconvert_exporter": "python",
   "pygments_lexer": "ipython3",
   "version": "3.12.2"
  }
 },
 "nbformat": 4,
 "nbformat_minor": 5
}
